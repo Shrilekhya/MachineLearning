{
  "nbformat": 4,
  "nbformat_minor": 0,
  "metadata": {
    "colab": {
      "provenance": [],
      "authorship_tag": "ABX9TyOAM9v9XwB9fPO3I6OzdgZH",
      "include_colab_link": true
    },
    "kernelspec": {
      "name": "python3",
      "display_name": "Python 3"
    },
    "language_info": {
      "name": "python"
    }
  },
  "cells": [
    {
      "cell_type": "markdown",
      "metadata": {
        "id": "view-in-github",
        "colab_type": "text"
      },
      "source": [
        "<a href=\"https://colab.research.google.com/github/Shrilekhya/MachineLearning/blob/main/SentimentAnalysis.ipynb\" target=\"_parent\"><img src=\"https://colab.research.google.com/assets/colab-badge.svg\" alt=\"Open In Colab\"/></a>"
      ]
    },
    {
      "cell_type": "code",
      "execution_count": 50,
      "metadata": {
        "id": "pm0784ZYKqCU"
      },
      "outputs": [],
      "source": [
        "import tensorflow as tf\n",
        "import tensorflow.keras as keras\n",
        "import numpy as np\n",
        "import pandas as pd"
      ]
    },
    {
      "cell_type": "code",
      "source": [
        "train_data = pd.read_csv('/content/imdb_reviews.csv')\n",
        "test_data = pd.read_csv('/content/test_reviews.csv')"
      ],
      "metadata": {
        "id": "tDYgbvLJL-jC"
      },
      "execution_count": 51,
      "outputs": []
    },
    {
      "cell_type": "code",
      "source": [
        "train_data.head()"
      ],
      "metadata": {
        "colab": {
          "base_uri": "https://localhost:8080/",
          "height": 206
        },
        "id": "vOFJlMPHMMpM",
        "outputId": "1caf9343-0071-448d-d588-1aec79e87057"
      },
      "execution_count": 52,
      "outputs": [
        {
          "output_type": "execute_result",
          "data": {
            "text/plain": [
              "                                             Reviews Sentiment\n",
              "0  <START this film was just brilliant casting lo...  positive\n",
              "1  <START big hair big boobs bad music and a gian...  negative\n",
              "2  <START this has to be one of the worst films o...  negative\n",
              "3  <START the <UNK> <UNK> at storytelling the tra...  positive\n",
              "4  <START worst mistake of my life br br i picked...  negative"
            ],
            "text/html": [
              "\n",
              "  <div id=\"df-029fa1f3-aaab-467e-9b31-ef30df4535cf\" class=\"colab-df-container\">\n",
              "    <div>\n",
              "<style scoped>\n",
              "    .dataframe tbody tr th:only-of-type {\n",
              "        vertical-align: middle;\n",
              "    }\n",
              "\n",
              "    .dataframe tbody tr th {\n",
              "        vertical-align: top;\n",
              "    }\n",
              "\n",
              "    .dataframe thead th {\n",
              "        text-align: right;\n",
              "    }\n",
              "</style>\n",
              "<table border=\"1\" class=\"dataframe\">\n",
              "  <thead>\n",
              "    <tr style=\"text-align: right;\">\n",
              "      <th></th>\n",
              "      <th>Reviews</th>\n",
              "      <th>Sentiment</th>\n",
              "    </tr>\n",
              "  </thead>\n",
              "  <tbody>\n",
              "    <tr>\n",
              "      <th>0</th>\n",
              "      <td>&lt;START this film was just brilliant casting lo...</td>\n",
              "      <td>positive</td>\n",
              "    </tr>\n",
              "    <tr>\n",
              "      <th>1</th>\n",
              "      <td>&lt;START big hair big boobs bad music and a gian...</td>\n",
              "      <td>negative</td>\n",
              "    </tr>\n",
              "    <tr>\n",
              "      <th>2</th>\n",
              "      <td>&lt;START this has to be one of the worst films o...</td>\n",
              "      <td>negative</td>\n",
              "    </tr>\n",
              "    <tr>\n",
              "      <th>3</th>\n",
              "      <td>&lt;START the &lt;UNK&gt; &lt;UNK&gt; at storytelling the tra...</td>\n",
              "      <td>positive</td>\n",
              "    </tr>\n",
              "    <tr>\n",
              "      <th>4</th>\n",
              "      <td>&lt;START worst mistake of my life br br i picked...</td>\n",
              "      <td>negative</td>\n",
              "    </tr>\n",
              "  </tbody>\n",
              "</table>\n",
              "</div>\n",
              "    <div class=\"colab-df-buttons\">\n",
              "\n",
              "  <div class=\"colab-df-container\">\n",
              "    <button class=\"colab-df-convert\" onclick=\"convertToInteractive('df-029fa1f3-aaab-467e-9b31-ef30df4535cf')\"\n",
              "            title=\"Convert this dataframe to an interactive table.\"\n",
              "            style=\"display:none;\">\n",
              "\n",
              "  <svg xmlns=\"http://www.w3.org/2000/svg\" height=\"24px\" viewBox=\"0 -960 960 960\">\n",
              "    <path d=\"M120-120v-720h720v720H120Zm60-500h600v-160H180v160Zm220 220h160v-160H400v160Zm0 220h160v-160H400v160ZM180-400h160v-160H180v160Zm440 0h160v-160H620v160ZM180-180h160v-160H180v160Zm440 0h160v-160H620v160Z\"/>\n",
              "  </svg>\n",
              "    </button>\n",
              "\n",
              "  <style>\n",
              "    .colab-df-container {\n",
              "      display:flex;\n",
              "      gap: 12px;\n",
              "    }\n",
              "\n",
              "    .colab-df-convert {\n",
              "      background-color: #E8F0FE;\n",
              "      border: none;\n",
              "      border-radius: 50%;\n",
              "      cursor: pointer;\n",
              "      display: none;\n",
              "      fill: #1967D2;\n",
              "      height: 32px;\n",
              "      padding: 0 0 0 0;\n",
              "      width: 32px;\n",
              "    }\n",
              "\n",
              "    .colab-df-convert:hover {\n",
              "      background-color: #E2EBFA;\n",
              "      box-shadow: 0px 1px 2px rgba(60, 64, 67, 0.3), 0px 1px 3px 1px rgba(60, 64, 67, 0.15);\n",
              "      fill: #174EA6;\n",
              "    }\n",
              "\n",
              "    .colab-df-buttons div {\n",
              "      margin-bottom: 4px;\n",
              "    }\n",
              "\n",
              "    [theme=dark] .colab-df-convert {\n",
              "      background-color: #3B4455;\n",
              "      fill: #D2E3FC;\n",
              "    }\n",
              "\n",
              "    [theme=dark] .colab-df-convert:hover {\n",
              "      background-color: #434B5C;\n",
              "      box-shadow: 0px 1px 3px 1px rgba(0, 0, 0, 0.15);\n",
              "      filter: drop-shadow(0px 1px 2px rgba(0, 0, 0, 0.3));\n",
              "      fill: #FFFFFF;\n",
              "    }\n",
              "  </style>\n",
              "\n",
              "    <script>\n",
              "      const buttonEl =\n",
              "        document.querySelector('#df-029fa1f3-aaab-467e-9b31-ef30df4535cf button.colab-df-convert');\n",
              "      buttonEl.style.display =\n",
              "        google.colab.kernel.accessAllowed ? 'block' : 'none';\n",
              "\n",
              "      async function convertToInteractive(key) {\n",
              "        const element = document.querySelector('#df-029fa1f3-aaab-467e-9b31-ef30df4535cf');\n",
              "        const dataTable =\n",
              "          await google.colab.kernel.invokeFunction('convertToInteractive',\n",
              "                                                    [key], {});\n",
              "        if (!dataTable) return;\n",
              "\n",
              "        const docLinkHtml = 'Like what you see? Visit the ' +\n",
              "          '<a target=\"_blank\" href=https://colab.research.google.com/notebooks/data_table.ipynb>data table notebook</a>'\n",
              "          + ' to learn more about interactive tables.';\n",
              "        element.innerHTML = '';\n",
              "        dataTable['output_type'] = 'display_data';\n",
              "        await google.colab.output.renderOutput(dataTable, element);\n",
              "        const docLink = document.createElement('div');\n",
              "        docLink.innerHTML = docLinkHtml;\n",
              "        element.appendChild(docLink);\n",
              "      }\n",
              "    </script>\n",
              "  </div>\n",
              "\n",
              "\n",
              "<div id=\"df-4128b82e-c9fc-4f37-8a7b-45a503a35067\">\n",
              "  <button class=\"colab-df-quickchart\" onclick=\"quickchart('df-4128b82e-c9fc-4f37-8a7b-45a503a35067')\"\n",
              "            title=\"Suggest charts\"\n",
              "            style=\"display:none;\">\n",
              "\n",
              "<svg xmlns=\"http://www.w3.org/2000/svg\" height=\"24px\"viewBox=\"0 0 24 24\"\n",
              "     width=\"24px\">\n",
              "    <g>\n",
              "        <path d=\"M19 3H5c-1.1 0-2 .9-2 2v14c0 1.1.9 2 2 2h14c1.1 0 2-.9 2-2V5c0-1.1-.9-2-2-2zM9 17H7v-7h2v7zm4 0h-2V7h2v10zm4 0h-2v-4h2v4z\"/>\n",
              "    </g>\n",
              "</svg>\n",
              "  </button>\n",
              "\n",
              "<style>\n",
              "  .colab-df-quickchart {\n",
              "      --bg-color: #E8F0FE;\n",
              "      --fill-color: #1967D2;\n",
              "      --hover-bg-color: #E2EBFA;\n",
              "      --hover-fill-color: #174EA6;\n",
              "      --disabled-fill-color: #AAA;\n",
              "      --disabled-bg-color: #DDD;\n",
              "  }\n",
              "\n",
              "  [theme=dark] .colab-df-quickchart {\n",
              "      --bg-color: #3B4455;\n",
              "      --fill-color: #D2E3FC;\n",
              "      --hover-bg-color: #434B5C;\n",
              "      --hover-fill-color: #FFFFFF;\n",
              "      --disabled-bg-color: #3B4455;\n",
              "      --disabled-fill-color: #666;\n",
              "  }\n",
              "\n",
              "  .colab-df-quickchart {\n",
              "    background-color: var(--bg-color);\n",
              "    border: none;\n",
              "    border-radius: 50%;\n",
              "    cursor: pointer;\n",
              "    display: none;\n",
              "    fill: var(--fill-color);\n",
              "    height: 32px;\n",
              "    padding: 0;\n",
              "    width: 32px;\n",
              "  }\n",
              "\n",
              "  .colab-df-quickchart:hover {\n",
              "    background-color: var(--hover-bg-color);\n",
              "    box-shadow: 0 1px 2px rgba(60, 64, 67, 0.3), 0 1px 3px 1px rgba(60, 64, 67, 0.15);\n",
              "    fill: var(--button-hover-fill-color);\n",
              "  }\n",
              "\n",
              "  .colab-df-quickchart-complete:disabled,\n",
              "  .colab-df-quickchart-complete:disabled:hover {\n",
              "    background-color: var(--disabled-bg-color);\n",
              "    fill: var(--disabled-fill-color);\n",
              "    box-shadow: none;\n",
              "  }\n",
              "\n",
              "  .colab-df-spinner {\n",
              "    border: 2px solid var(--fill-color);\n",
              "    border-color: transparent;\n",
              "    border-bottom-color: var(--fill-color);\n",
              "    animation:\n",
              "      spin 1s steps(1) infinite;\n",
              "  }\n",
              "\n",
              "  @keyframes spin {\n",
              "    0% {\n",
              "      border-color: transparent;\n",
              "      border-bottom-color: var(--fill-color);\n",
              "      border-left-color: var(--fill-color);\n",
              "    }\n",
              "    20% {\n",
              "      border-color: transparent;\n",
              "      border-left-color: var(--fill-color);\n",
              "      border-top-color: var(--fill-color);\n",
              "    }\n",
              "    30% {\n",
              "      border-color: transparent;\n",
              "      border-left-color: var(--fill-color);\n",
              "      border-top-color: var(--fill-color);\n",
              "      border-right-color: var(--fill-color);\n",
              "    }\n",
              "    40% {\n",
              "      border-color: transparent;\n",
              "      border-right-color: var(--fill-color);\n",
              "      border-top-color: var(--fill-color);\n",
              "    }\n",
              "    60% {\n",
              "      border-color: transparent;\n",
              "      border-right-color: var(--fill-color);\n",
              "    }\n",
              "    80% {\n",
              "      border-color: transparent;\n",
              "      border-right-color: var(--fill-color);\n",
              "      border-bottom-color: var(--fill-color);\n",
              "    }\n",
              "    90% {\n",
              "      border-color: transparent;\n",
              "      border-bottom-color: var(--fill-color);\n",
              "    }\n",
              "  }\n",
              "</style>\n",
              "\n",
              "  <script>\n",
              "    async function quickchart(key) {\n",
              "      const quickchartButtonEl =\n",
              "        document.querySelector('#' + key + ' button');\n",
              "      quickchartButtonEl.disabled = true;  // To prevent multiple clicks.\n",
              "      quickchartButtonEl.classList.add('colab-df-spinner');\n",
              "      try {\n",
              "        const charts = await google.colab.kernel.invokeFunction(\n",
              "            'suggestCharts', [key], {});\n",
              "      } catch (error) {\n",
              "        console.error('Error during call to suggestCharts:', error);\n",
              "      }\n",
              "      quickchartButtonEl.classList.remove('colab-df-spinner');\n",
              "      quickchartButtonEl.classList.add('colab-df-quickchart-complete');\n",
              "    }\n",
              "    (() => {\n",
              "      let quickchartButtonEl =\n",
              "        document.querySelector('#df-4128b82e-c9fc-4f37-8a7b-45a503a35067 button');\n",
              "      quickchartButtonEl.style.display =\n",
              "        google.colab.kernel.accessAllowed ? 'block' : 'none';\n",
              "    })();\n",
              "  </script>\n",
              "</div>\n",
              "\n",
              "    </div>\n",
              "  </div>\n"
            ]
          },
          "metadata": {},
          "execution_count": 52
        }
      ]
    },
    {
      "cell_type": "code",
      "source": [
        "word_indexes = pd.read_csv('/content/word_indexes.csv')\n",
        "word_indexes.head()"
      ],
      "metadata": {
        "colab": {
          "base_uri": "https://localhost:8080/",
          "height": 206
        },
        "id": "dmn1Ra65MO8x",
        "outputId": "947131a2-c0e0-4483-d6ec-c513efb5e863"
      },
      "execution_count": 53,
      "outputs": [
        {
          "output_type": "execute_result",
          "data": {
            "text/plain": [
              "     Words  Indexes\n",
              "0  tsukino    52009\n",
              "1  nunnery    52010\n",
              "2    sonja    16819\n",
              "3     vani    63954\n",
              "4    woods     1411"
            ],
            "text/html": [
              "\n",
              "  <div id=\"df-fbcea779-9672-47f8-9a5a-c8a65c3b75e3\" class=\"colab-df-container\">\n",
              "    <div>\n",
              "<style scoped>\n",
              "    .dataframe tbody tr th:only-of-type {\n",
              "        vertical-align: middle;\n",
              "    }\n",
              "\n",
              "    .dataframe tbody tr th {\n",
              "        vertical-align: top;\n",
              "    }\n",
              "\n",
              "    .dataframe thead th {\n",
              "        text-align: right;\n",
              "    }\n",
              "</style>\n",
              "<table border=\"1\" class=\"dataframe\">\n",
              "  <thead>\n",
              "    <tr style=\"text-align: right;\">\n",
              "      <th></th>\n",
              "      <th>Words</th>\n",
              "      <th>Indexes</th>\n",
              "    </tr>\n",
              "  </thead>\n",
              "  <tbody>\n",
              "    <tr>\n",
              "      <th>0</th>\n",
              "      <td>tsukino</td>\n",
              "      <td>52009</td>\n",
              "    </tr>\n",
              "    <tr>\n",
              "      <th>1</th>\n",
              "      <td>nunnery</td>\n",
              "      <td>52010</td>\n",
              "    </tr>\n",
              "    <tr>\n",
              "      <th>2</th>\n",
              "      <td>sonja</td>\n",
              "      <td>16819</td>\n",
              "    </tr>\n",
              "    <tr>\n",
              "      <th>3</th>\n",
              "      <td>vani</td>\n",
              "      <td>63954</td>\n",
              "    </tr>\n",
              "    <tr>\n",
              "      <th>4</th>\n",
              "      <td>woods</td>\n",
              "      <td>1411</td>\n",
              "    </tr>\n",
              "  </tbody>\n",
              "</table>\n",
              "</div>\n",
              "    <div class=\"colab-df-buttons\">\n",
              "\n",
              "  <div class=\"colab-df-container\">\n",
              "    <button class=\"colab-df-convert\" onclick=\"convertToInteractive('df-fbcea779-9672-47f8-9a5a-c8a65c3b75e3')\"\n",
              "            title=\"Convert this dataframe to an interactive table.\"\n",
              "            style=\"display:none;\">\n",
              "\n",
              "  <svg xmlns=\"http://www.w3.org/2000/svg\" height=\"24px\" viewBox=\"0 -960 960 960\">\n",
              "    <path d=\"M120-120v-720h720v720H120Zm60-500h600v-160H180v160Zm220 220h160v-160H400v160Zm0 220h160v-160H400v160ZM180-400h160v-160H180v160Zm440 0h160v-160H620v160ZM180-180h160v-160H180v160Zm440 0h160v-160H620v160Z\"/>\n",
              "  </svg>\n",
              "    </button>\n",
              "\n",
              "  <style>\n",
              "    .colab-df-container {\n",
              "      display:flex;\n",
              "      gap: 12px;\n",
              "    }\n",
              "\n",
              "    .colab-df-convert {\n",
              "      background-color: #E8F0FE;\n",
              "      border: none;\n",
              "      border-radius: 50%;\n",
              "      cursor: pointer;\n",
              "      display: none;\n",
              "      fill: #1967D2;\n",
              "      height: 32px;\n",
              "      padding: 0 0 0 0;\n",
              "      width: 32px;\n",
              "    }\n",
              "\n",
              "    .colab-df-convert:hover {\n",
              "      background-color: #E2EBFA;\n",
              "      box-shadow: 0px 1px 2px rgba(60, 64, 67, 0.3), 0px 1px 3px 1px rgba(60, 64, 67, 0.15);\n",
              "      fill: #174EA6;\n",
              "    }\n",
              "\n",
              "    .colab-df-buttons div {\n",
              "      margin-bottom: 4px;\n",
              "    }\n",
              "\n",
              "    [theme=dark] .colab-df-convert {\n",
              "      background-color: #3B4455;\n",
              "      fill: #D2E3FC;\n",
              "    }\n",
              "\n",
              "    [theme=dark] .colab-df-convert:hover {\n",
              "      background-color: #434B5C;\n",
              "      box-shadow: 0px 1px 3px 1px rgba(0, 0, 0, 0.15);\n",
              "      filter: drop-shadow(0px 1px 2px rgba(0, 0, 0, 0.3));\n",
              "      fill: #FFFFFF;\n",
              "    }\n",
              "  </style>\n",
              "\n",
              "    <script>\n",
              "      const buttonEl =\n",
              "        document.querySelector('#df-fbcea779-9672-47f8-9a5a-c8a65c3b75e3 button.colab-df-convert');\n",
              "      buttonEl.style.display =\n",
              "        google.colab.kernel.accessAllowed ? 'block' : 'none';\n",
              "\n",
              "      async function convertToInteractive(key) {\n",
              "        const element = document.querySelector('#df-fbcea779-9672-47f8-9a5a-c8a65c3b75e3');\n",
              "        const dataTable =\n",
              "          await google.colab.kernel.invokeFunction('convertToInteractive',\n",
              "                                                    [key], {});\n",
              "        if (!dataTable) return;\n",
              "\n",
              "        const docLinkHtml = 'Like what you see? Visit the ' +\n",
              "          '<a target=\"_blank\" href=https://colab.research.google.com/notebooks/data_table.ipynb>data table notebook</a>'\n",
              "          + ' to learn more about interactive tables.';\n",
              "        element.innerHTML = '';\n",
              "        dataTable['output_type'] = 'display_data';\n",
              "        await google.colab.output.renderOutput(dataTable, element);\n",
              "        const docLink = document.createElement('div');\n",
              "        docLink.innerHTML = docLinkHtml;\n",
              "        element.appendChild(docLink);\n",
              "      }\n",
              "    </script>\n",
              "  </div>\n",
              "\n",
              "\n",
              "<div id=\"df-4bd1fa26-5f18-469b-a87a-ea41b7b15a7e\">\n",
              "  <button class=\"colab-df-quickchart\" onclick=\"quickchart('df-4bd1fa26-5f18-469b-a87a-ea41b7b15a7e')\"\n",
              "            title=\"Suggest charts\"\n",
              "            style=\"display:none;\">\n",
              "\n",
              "<svg xmlns=\"http://www.w3.org/2000/svg\" height=\"24px\"viewBox=\"0 0 24 24\"\n",
              "     width=\"24px\">\n",
              "    <g>\n",
              "        <path d=\"M19 3H5c-1.1 0-2 .9-2 2v14c0 1.1.9 2 2 2h14c1.1 0 2-.9 2-2V5c0-1.1-.9-2-2-2zM9 17H7v-7h2v7zm4 0h-2V7h2v10zm4 0h-2v-4h2v4z\"/>\n",
              "    </g>\n",
              "</svg>\n",
              "  </button>\n",
              "\n",
              "<style>\n",
              "  .colab-df-quickchart {\n",
              "      --bg-color: #E8F0FE;\n",
              "      --fill-color: #1967D2;\n",
              "      --hover-bg-color: #E2EBFA;\n",
              "      --hover-fill-color: #174EA6;\n",
              "      --disabled-fill-color: #AAA;\n",
              "      --disabled-bg-color: #DDD;\n",
              "  }\n",
              "\n",
              "  [theme=dark] .colab-df-quickchart {\n",
              "      --bg-color: #3B4455;\n",
              "      --fill-color: #D2E3FC;\n",
              "      --hover-bg-color: #434B5C;\n",
              "      --hover-fill-color: #FFFFFF;\n",
              "      --disabled-bg-color: #3B4455;\n",
              "      --disabled-fill-color: #666;\n",
              "  }\n",
              "\n",
              "  .colab-df-quickchart {\n",
              "    background-color: var(--bg-color);\n",
              "    border: none;\n",
              "    border-radius: 50%;\n",
              "    cursor: pointer;\n",
              "    display: none;\n",
              "    fill: var(--fill-color);\n",
              "    height: 32px;\n",
              "    padding: 0;\n",
              "    width: 32px;\n",
              "  }\n",
              "\n",
              "  .colab-df-quickchart:hover {\n",
              "    background-color: var(--hover-bg-color);\n",
              "    box-shadow: 0 1px 2px rgba(60, 64, 67, 0.3), 0 1px 3px 1px rgba(60, 64, 67, 0.15);\n",
              "    fill: var(--button-hover-fill-color);\n",
              "  }\n",
              "\n",
              "  .colab-df-quickchart-complete:disabled,\n",
              "  .colab-df-quickchart-complete:disabled:hover {\n",
              "    background-color: var(--disabled-bg-color);\n",
              "    fill: var(--disabled-fill-color);\n",
              "    box-shadow: none;\n",
              "  }\n",
              "\n",
              "  .colab-df-spinner {\n",
              "    border: 2px solid var(--fill-color);\n",
              "    border-color: transparent;\n",
              "    border-bottom-color: var(--fill-color);\n",
              "    animation:\n",
              "      spin 1s steps(1) infinite;\n",
              "  }\n",
              "\n",
              "  @keyframes spin {\n",
              "    0% {\n",
              "      border-color: transparent;\n",
              "      border-bottom-color: var(--fill-color);\n",
              "      border-left-color: var(--fill-color);\n",
              "    }\n",
              "    20% {\n",
              "      border-color: transparent;\n",
              "      border-left-color: var(--fill-color);\n",
              "      border-top-color: var(--fill-color);\n",
              "    }\n",
              "    30% {\n",
              "      border-color: transparent;\n",
              "      border-left-color: var(--fill-color);\n",
              "      border-top-color: var(--fill-color);\n",
              "      border-right-color: var(--fill-color);\n",
              "    }\n",
              "    40% {\n",
              "      border-color: transparent;\n",
              "      border-right-color: var(--fill-color);\n",
              "      border-top-color: var(--fill-color);\n",
              "    }\n",
              "    60% {\n",
              "      border-color: transparent;\n",
              "      border-right-color: var(--fill-color);\n",
              "    }\n",
              "    80% {\n",
              "      border-color: transparent;\n",
              "      border-right-color: var(--fill-color);\n",
              "      border-bottom-color: var(--fill-color);\n",
              "    }\n",
              "    90% {\n",
              "      border-color: transparent;\n",
              "      border-bottom-color: var(--fill-color);\n",
              "    }\n",
              "  }\n",
              "</style>\n",
              "\n",
              "  <script>\n",
              "    async function quickchart(key) {\n",
              "      const quickchartButtonEl =\n",
              "        document.querySelector('#' + key + ' button');\n",
              "      quickchartButtonEl.disabled = true;  // To prevent multiple clicks.\n",
              "      quickchartButtonEl.classList.add('colab-df-spinner');\n",
              "      try {\n",
              "        const charts = await google.colab.kernel.invokeFunction(\n",
              "            'suggestCharts', [key], {});\n",
              "      } catch (error) {\n",
              "        console.error('Error during call to suggestCharts:', error);\n",
              "      }\n",
              "      quickchartButtonEl.classList.remove('colab-df-spinner');\n",
              "      quickchartButtonEl.classList.add('colab-df-quickchart-complete');\n",
              "    }\n",
              "    (() => {\n",
              "      let quickchartButtonEl =\n",
              "        document.querySelector('#df-4bd1fa26-5f18-469b-a87a-ea41b7b15a7e button');\n",
              "      quickchartButtonEl.style.display =\n",
              "        google.colab.kernel.accessAllowed ? 'block' : 'none';\n",
              "    })();\n",
              "  </script>\n",
              "</div>\n",
              "\n",
              "    </div>\n",
              "  </div>\n"
            ]
          },
          "metadata": {},
          "execution_count": 53
        }
      ]
    },
    {
      "cell_type": "code",
      "source": [
        "# Converting this word_indexes list into a dictionary\n",
        "\n",
        "word_indexes = dict(zip(word_indexes.Words, word_indexes.Indexes))"
      ],
      "metadata": {
        "id": "3evuZNbhMfCS"
      },
      "execution_count": 54,
      "outputs": []
    },
    {
      "cell_type": "code",
      "source": [
        "word_indexes[\"<PAD>\"] = 0\n",
        "word_indexes[\"<START\"] = 1\n",
        "word_indexes[\"<UNK>\"] = 2\n",
        "word_indexes[\"<UNUSED>\"] = 3\n",
        "word_indexes[\"<U\"] = 4"
      ],
      "metadata": {
        "id": "8ayo7pmKM5bH"
      },
      "execution_count": 55,
      "outputs": []
    },
    {
      "cell_type": "code",
      "source": [
        "# function for encoding the text data into the indexes\n",
        "\n",
        "def textEncoder(text):\n",
        "  return [word_indexes[word] for word in text]"
      ],
      "metadata": {
        "id": "YaXDkb4NNd7o"
      },
      "execution_count": 56,
      "outputs": []
    },
    {
      "cell_type": "code",
      "source": [
        "# Splitting the data\n",
        "X_train, y_train = train_data['Reviews'], train_data['Sentiment']\n",
        "X_test, y_test = test_data['Reviews'], test_data['Sentiment']"
      ],
      "metadata": {
        "id": "kCdsd6Q7N4hc"
      },
      "execution_count": 57,
      "outputs": []
    },
    {
      "cell_type": "code",
      "source": [
        "X_train.head()"
      ],
      "metadata": {
        "colab": {
          "base_uri": "https://localhost:8080/"
        },
        "id": "sRoFiwN9Qa0W",
        "outputId": "b786a97f-51c5-40c0-dc5e-9d64ea84a18a"
      },
      "execution_count": 58,
      "outputs": [
        {
          "output_type": "execute_result",
          "data": {
            "text/plain": [
              "0    <START this film was just brilliant casting lo...\n",
              "1    <START big hair big boobs bad music and a gian...\n",
              "2    <START this has to be one of the worst films o...\n",
              "3    <START the <UNK> <UNK> at storytelling the tra...\n",
              "4    <START worst mistake of my life br br i picked...\n",
              "Name: Reviews, dtype: object"
            ]
          },
          "metadata": {},
          "execution_count": 58
        }
      ]
    },
    {
      "cell_type": "markdown",
      "source": [
        "Splitting the words in each review using whitespace as delimitter"
      ],
      "metadata": {
        "id": "zFIv8GpvRUVr"
      }
    },
    {
      "cell_type": "code",
      "source": [
        "X_train=X_train.apply(lambda review:review.split())\n",
        "X_test=X_test.apply(lambda review:review.split())"
      ],
      "metadata": {
        "id": "f3ukzS3wRB7G"
      },
      "execution_count": 59,
      "outputs": []
    },
    {
      "cell_type": "code",
      "source": [
        "X_train.head()"
      ],
      "metadata": {
        "colab": {
          "base_uri": "https://localhost:8080/"
        },
        "id": "u-pmxLOnPBzI",
        "outputId": "ea1ccf99-5621-4ff6-d8d4-10523f203eb6"
      },
      "execution_count": 60,
      "outputs": [
        {
          "output_type": "execute_result",
          "data": {
            "text/plain": [
              "0    [<START, this, film, was, just, brilliant, cas...\n",
              "1    [<START, big, hair, big, boobs, bad, music, an...\n",
              "2    [<START, this, has, to, be, one, of, the, wors...\n",
              "3    [<START, the, <UNK>, <UNK>, at, storytelling, ...\n",
              "4    [<START, worst, mistake, of, my, life, br, br,...\n",
              "Name: Reviews, dtype: object"
            ]
          },
          "metadata": {},
          "execution_count": 60
        }
      ]
    },
    {
      "cell_type": "code",
      "source": [
        "#Encoding all the words\n",
        "X_train = X_train.apply(textEncoder)\n",
        "X_test = X_test.apply(textEncoder)"
      ],
      "metadata": {
        "id": "P-1bq1kXRP0M"
      },
      "execution_count": 61,
      "outputs": []
    },
    {
      "cell_type": "code",
      "source": [
        "X_train.head()"
      ],
      "metadata": {
        "colab": {
          "base_uri": "https://localhost:8080/"
        },
        "id": "Z1033_drRzbt",
        "outputId": "3ae87d66-6c9a-4b22-c1aa-17b557139463"
      },
      "execution_count": 62,
      "outputs": [
        {
          "output_type": "execute_result",
          "data": {
            "text/plain": [
              "0    [1, 14, 22, 16, 43, 530, 973, 1622, 1385, 65, ...\n",
              "1    [1, 194, 1153, 194, 8255, 78, 228, 5, 6, 1463,...\n",
              "2    [1, 14, 47, 8, 30, 31, 7, 4, 249, 108, 7, 4, 5...\n",
              "3    [1, 4, 2, 2, 33, 2804, 4, 2040, 432, 111, 153,...\n",
              "4    [1, 249, 1323, 7, 61, 113, 10, 10, 13, 1637, 1...\n",
              "Name: Reviews, dtype: object"
            ]
          },
          "metadata": {},
          "execution_count": 62
        }
      ]
    },
    {
      "cell_type": "code",
      "source": [
        "#We encode the sentiments\n",
        "\n",
        "def encodeSentiments(sent):\n",
        "  if sent == \"positive\":\n",
        "    return 1\n",
        "  else:\n",
        "    return 0"
      ],
      "metadata": {
        "id": "6A-9U25TTJJ9"
      },
      "execution_count": 63,
      "outputs": []
    },
    {
      "cell_type": "code",
      "source": [
        "y_train = y_train.apply(encodeSentiments)\n",
        "y_test = y_test.apply(encodeSentiments)"
      ],
      "metadata": {
        "id": "SA2mcNtUTx1Q"
      },
      "execution_count": 64,
      "outputs": []
    },
    {
      "cell_type": "code",
      "source": [
        "# We have to make the length of each review same for the model to work properly. So we consider the max lenght to be 500 and pad 0's if review length is lesser\n",
        "\n",
        "X_train = keras.preprocessing.sequence.pad_sequences(X_train, maxlen=500, padding='post', value=word_indexes[\"<PAD>\"])\n",
        "X_test = keras.preprocessing.sequence.pad_sequences(X_test, maxlen=500, padding='post', value=word_indexes[\"<PAD>\"])"
      ],
      "metadata": {
        "id": "nzxpSQICT94R"
      },
      "execution_count": 65,
      "outputs": []
    },
    {
      "cell_type": "markdown",
      "source": [
        "Here,\n",
        "\n",
        "1st layer : takes 10000 egs and creates word embeddings of length 16 for each review\n",
        "\n",
        "2nd layer : it prevents overfitting by reducing the number of parameters\n",
        "\n",
        "3rd layer : dense layer with 16 hidden unit and relu as activation function\n",
        "\n",
        "4th layer : dense layer which is the output layer and uses sigmoid as activation function"
      ],
      "metadata": {
        "id": "TeTZgmg6ZT_P"
      }
    },
    {
      "cell_type": "code",
      "source": [
        "model = keras.Sequential([keras.layers.Embedding(10000, 16, input_length=500),\n",
        "                          keras.layers.GlobalAveragePooling1D(),\n",
        "                          keras.layers.Dense(16, activation='relu'),\n",
        "                          keras.layers.Dense(1, activation='sigmoid')])"
      ],
      "metadata": {
        "id": "sqV-stYMU_SQ"
      },
      "execution_count": 68,
      "outputs": []
    },
    {
      "cell_type": "code",
      "source": [
        "model.compile(optimizer='adam', loss='binary_crossentropy', metrics=['accuracy'])"
      ],
      "metadata": {
        "id": "8rxIbp5NWtt8"
      },
      "execution_count": 69,
      "outputs": []
    },
    {
      "cell_type": "code",
      "source": [
        "#training the model\n",
        "output = model.fit(X_train, y_train, epochs=30, batch_size=512, validation_data=(X_test, y_test))"
      ],
      "metadata": {
        "colab": {
          "base_uri": "https://localhost:8080/"
        },
        "id": "tjL8i9bvXHUV",
        "outputId": "a8eda5f3-a317-4c03-8c6b-d9319ce7ac5c"
      },
      "execution_count": 71,
      "outputs": [
        {
          "output_type": "stream",
          "name": "stdout",
          "text": [
            "Epoch 1/30\n",
            "49/49 [==============================] - 2s 25ms/step - loss: 0.6913 - accuracy: 0.5590 - val_loss: 0.6882 - val_accuracy: 0.5722\n",
            "Epoch 2/30\n",
            "49/49 [==============================] - 1s 18ms/step - loss: 0.6809 - accuracy: 0.6896 - val_loss: 0.6723 - val_accuracy: 0.7468\n",
            "Epoch 3/30\n",
            "49/49 [==============================] - 1s 18ms/step - loss: 0.6552 - accuracy: 0.7609 - val_loss: 0.6399 - val_accuracy: 0.7497\n",
            "Epoch 4/30\n",
            "49/49 [==============================] - 1s 18ms/step - loss: 0.6102 - accuracy: 0.7926 - val_loss: 0.5907 - val_accuracy: 0.7935\n",
            "Epoch 5/30\n",
            "49/49 [==============================] - 1s 18ms/step - loss: 0.5521 - accuracy: 0.8191 - val_loss: 0.5352 - val_accuracy: 0.8161\n",
            "Epoch 6/30\n",
            "49/49 [==============================] - 1s 20ms/step - loss: 0.4901 - accuracy: 0.8418 - val_loss: 0.4805 - val_accuracy: 0.8344\n",
            "Epoch 7/30\n",
            "49/49 [==============================] - 1s 30ms/step - loss: 0.4332 - accuracy: 0.8607 - val_loss: 0.4357 - val_accuracy: 0.8464\n",
            "Epoch 8/30\n",
            "49/49 [==============================] - 1s 24ms/step - loss: 0.3873 - accuracy: 0.8732 - val_loss: 0.3993 - val_accuracy: 0.8569\n",
            "Epoch 9/30\n",
            "49/49 [==============================] - 1s 18ms/step - loss: 0.3505 - accuracy: 0.8834 - val_loss: 0.3726 - val_accuracy: 0.8626\n",
            "Epoch 10/30\n",
            "49/49 [==============================] - 1s 18ms/step - loss: 0.3218 - accuracy: 0.8912 - val_loss: 0.3523 - val_accuracy: 0.8680\n",
            "Epoch 11/30\n",
            "49/49 [==============================] - 1s 18ms/step - loss: 0.2988 - accuracy: 0.8980 - val_loss: 0.3371 - val_accuracy: 0.8714\n",
            "Epoch 12/30\n",
            "49/49 [==============================] - 1s 20ms/step - loss: 0.2798 - accuracy: 0.9034 - val_loss: 0.3249 - val_accuracy: 0.8747\n",
            "Epoch 13/30\n",
            "49/49 [==============================] - 1s 17ms/step - loss: 0.2641 - accuracy: 0.9089 - val_loss: 0.3184 - val_accuracy: 0.8748\n",
            "Epoch 14/30\n",
            "49/49 [==============================] - 1s 17ms/step - loss: 0.2503 - accuracy: 0.9125 - val_loss: 0.3086 - val_accuracy: 0.8792\n",
            "Epoch 15/30\n",
            "49/49 [==============================] - 1s 18ms/step - loss: 0.2386 - accuracy: 0.9172 - val_loss: 0.3027 - val_accuracy: 0.8804\n",
            "Epoch 16/30\n",
            "49/49 [==============================] - 1s 19ms/step - loss: 0.2271 - accuracy: 0.9221 - val_loss: 0.2973 - val_accuracy: 0.8826\n",
            "Epoch 17/30\n",
            "49/49 [==============================] - 1s 18ms/step - loss: 0.2179 - accuracy: 0.9246 - val_loss: 0.2965 - val_accuracy: 0.8816\n",
            "Epoch 18/30\n",
            "49/49 [==============================] - 1s 18ms/step - loss: 0.2091 - accuracy: 0.9287 - val_loss: 0.2907 - val_accuracy: 0.8852\n",
            "Epoch 19/30\n",
            "49/49 [==============================] - 1s 22ms/step - loss: 0.2009 - accuracy: 0.9311 - val_loss: 0.2886 - val_accuracy: 0.8844\n",
            "Epoch 20/30\n",
            "49/49 [==============================] - 1s 28ms/step - loss: 0.1933 - accuracy: 0.9343 - val_loss: 0.2898 - val_accuracy: 0.8843\n",
            "Epoch 21/30\n",
            "49/49 [==============================] - 1s 17ms/step - loss: 0.1866 - accuracy: 0.9366 - val_loss: 0.2857 - val_accuracy: 0.8856\n",
            "Epoch 22/30\n",
            "49/49 [==============================] - 1s 18ms/step - loss: 0.1801 - accuracy: 0.9388 - val_loss: 0.2857 - val_accuracy: 0.8859\n",
            "Epoch 23/30\n",
            "49/49 [==============================] - 1s 23ms/step - loss: 0.1746 - accuracy: 0.9417 - val_loss: 0.2877 - val_accuracy: 0.8854\n",
            "Epoch 24/30\n",
            "49/49 [==============================] - 1s 22ms/step - loss: 0.1684 - accuracy: 0.9440 - val_loss: 0.2864 - val_accuracy: 0.8861\n",
            "Epoch 25/30\n",
            "49/49 [==============================] - 1s 22ms/step - loss: 0.1633 - accuracy: 0.9456 - val_loss: 0.2876 - val_accuracy: 0.8861\n",
            "Epoch 26/30\n",
            "49/49 [==============================] - 1s 23ms/step - loss: 0.1580 - accuracy: 0.9480 - val_loss: 0.2889 - val_accuracy: 0.8858\n",
            "Epoch 27/30\n",
            "49/49 [==============================] - 1s 21ms/step - loss: 0.1539 - accuracy: 0.9493 - val_loss: 0.2906 - val_accuracy: 0.8852\n",
            "Epoch 28/30\n",
            "49/49 [==============================] - 1s 18ms/step - loss: 0.1488 - accuracy: 0.9512 - val_loss: 0.2914 - val_accuracy: 0.8848\n",
            "Epoch 29/30\n",
            "49/49 [==============================] - 1s 18ms/step - loss: 0.1448 - accuracy: 0.9519 - val_loss: 0.2972 - val_accuracy: 0.8838\n",
            "Epoch 30/30\n",
            "49/49 [==============================] - 1s 17ms/step - loss: 0.1415 - accuracy: 0.9532 - val_loss: 0.2949 - val_accuracy: 0.8848\n"
          ]
        }
      ]
    },
    {
      "cell_type": "code",
      "source": [
        "loss, accuracy = model.evaluate(X_test, y_test)"
      ],
      "metadata": {
        "colab": {
          "base_uri": "https://localhost:8080/"
        },
        "id": "AbziCy9pXkQQ",
        "outputId": "5f8723c9-ee09-4faa-c29b-69faed623749"
      },
      "execution_count": 72,
      "outputs": [
        {
          "output_type": "stream",
          "name": "stdout",
          "text": [
            "782/782 [==============================] - 1s 1ms/step - loss: 0.2949 - accuracy: 0.8848\n"
          ]
        }
      ]
    },
    {
      "cell_type": "code",
      "source": [
        "randomIndex = np.random.randint(1,1000)\n",
        "user_review = test_data.loc[randomIndex]\n",
        "print(user_review)"
      ],
      "metadata": {
        "colab": {
          "base_uri": "https://localhost:8080/"
        },
        "id": "skBeqzYFX6m0",
        "outputId": "35ae84b7-1bee-4266-bd83-2475eb4e821b"
      },
      "execution_count": 73,
      "outputs": [
        {
          "output_type": "stream",
          "name": "stdout",
          "text": [
            "Reviews      <START actually i have more a question than a ...\n",
            "Sentiment                                             positive\n",
            "Name: 323, dtype: object\n"
          ]
        }
      ]
    },
    {
      "cell_type": "code",
      "source": [
        "user_review = X_test[randomIndex]\n",
        "user_review=np.array([user_review])\n",
        "user_sent = model.predict(user_review)\n",
        "\n",
        "if(user_sent>0.5):\n",
        "  print(\"Positive Sentiment\")\n",
        "else:\n",
        "  print(\"Negative Sentiment\")"
      ],
      "metadata": {
        "colab": {
          "base_uri": "https://localhost:8080/"
        },
        "id": "7EkvkvXkYg6C",
        "outputId": "5f6d6600-39b5-45f0-95bc-cb5fc5d39f13"
      },
      "execution_count": 74,
      "outputs": [
        {
          "output_type": "stream",
          "name": "stdout",
          "text": [
            "1/1 [==============================] - 0s 67ms/step\n",
            "Positive Sentiment\n"
          ]
        }
      ]
    },
    {
      "cell_type": "code",
      "source": [],
      "metadata": {
        "id": "cDrmG_mNZOAL"
      },
      "execution_count": null,
      "outputs": []
    }
  ]
}